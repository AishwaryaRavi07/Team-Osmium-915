{
 "cells": [
  {
   "cell_type": "code",
   "execution_count": null,
   "metadata": {},
   "outputs": [],
   "source": [
    "#import librarires\n",
    "import whisper,moviepy,os,fpdf\n",
    "from googletrans import Translator\n",
    "from moviepy.editor import AudioFileClip\n",
    "from fpdf import FPDF\n",
    "\n",
    "folder_path = r\"C:\\Users\\Medha\\miniconda3\\m3_topic_summ\\data\\lec1\"\n",
    "\n",
    "whisper_model = whisper.load_model(\"large-v3\")"
   ]
  },
  {
   "cell_type": "code",
   "execution_count": null,
   "metadata": {},
   "outputs": [],
   "source": [
    "import os\n",
    "\n",
    "def iterate_through_folders(root_dir):\n",
    "    \"\"\"Recursively iterates through all folders in a given directory.\n",
    "\n",
    "    Args:\n",
    "        root_dir (str): The path to the root directory to start iterating from.\n",
    "    \"\"\"\n",
    "\n",
    "    for subdir, dirs, files in os.walk(root_dir):\n",
    "        # Process current subdirectory\n",
    "        print(f\"Current directory: {subdir}\")\n",
    "\n",
    "        # Process files in the current directory\n",
    "        for filename in files:\n",
    "            file_path = os.path.join(subdir, filename)\n",
    "            print(f\"  File: {file_path}\")  # Replace with your desired file processing\n",
    "\n",
    "# Example usage:\n",
    "root_dir = r\"C:\\Users\\Medha\\miniconda3\\m3_topic_summ\\data\"  # Replace with the actual path\n",
    "iterate_through_folders(root_dir)\n"
   ]
  },
  {
   "cell_type": "code",
   "execution_count": null,
   "metadata": {},
   "outputs": [],
   "source": [
    "def whisper_generate_translated_transcript(file_path):\n",
    "    translate=whisper_model.transcribe(file_path,task='translate', fp16=False)\n",
    "    return translate['text']"
   ]
  },
  {
   "cell_type": "code",
   "execution_count": null,
   "metadata": {},
   "outputs": [],
   "source": [
    "def convert_mp4_mp3(folder_path):\n",
    "    # Iterate through all files in the folder\n",
    "    for filename in os.listdir(folder_path):\n",
    "        # Check if file is a video\n",
    "        if filename.endswith(\".mp4\"):\n",
    "            # Define input and output file paths\n",
    "            input_path = os.path.join(folder_path, filename)\n",
    "            output_path = os.path.splitext(input_path)[0] + \".mp3\"\n",
    "\n",
    "            # Convert .mp4 to .mp3 and save\n",
    "            try:\n",
    "                clip = AudioFileClip(input_path)\n",
    "                clip.write_audiofile(output_path)\n",
    "    #            print(f\"Converted {filename} to {output_path}\")\n",
    "            except Exception as e:\n",
    "                print(f\"Error converting {filename}: {e}\")"
   ]
  },
  {
   "cell_type": "code",
   "execution_count": null,
   "metadata": {},
   "outputs": [],
   "source": [
    "def convert_mp3_transcript(folder_path):\n",
    "    #src of the folder\n",
    "    audio_folder=folder_path\n",
    "    #go through all the files/sub-directories of the the folder\n",
    "    for dirpath,dirnames,filenames in os.walk(audio_folder):\n",
    "        for filename in filenames:\n",
    "            #files of different formats present, we need to process only .mp3 files\n",
    "            if filename.endswith(\".mp3\"):\n",
    "                audio_path=os.path.join(dirpath,filename)\n",
    "                #creating a local path for generated transcript storage\n",
    "                txt_path=os.path.splitext(audio_path)[0]+\".txt\"\n",
    "                #transcribe the audio/transcript generation\n",
    "                transcript=whisper_generate_translated_transcript(audio_path)\n",
    "                lec_transcript=transcript\n",
    "                return lec_transcript"
   ]
  },
  {
   "cell_type": "code",
   "execution_count": null,
   "metadata": {},
   "outputs": [],
   "source": [
    "def convert_paragraph_to_pdf(para,folder_name,file_name):\n",
    "    # Paragraph to convert\n",
    "    paragraph = para\n",
    "    # Folder path to store the PDF\n",
    "    folder_path = folder_name # Replace with your actual folder path\n",
    "    # Desired PDF filename\n",
    "    pdf_name = file_name+\".pdf\"  # Replace with your desired filename\n",
    "    # Create a PDF object\n",
    "    pdf = FPDF()\n",
    "    # Add a page\n",
    "    pdf.add_page()\n",
    "    # Set font and font size\n",
    "    pdf.set_font(\"Arial\", size=12)\n",
    "    # Write the paragraph to the PDF\n",
    "    pdf.write(5, paragraph)\n",
    "    # Save the PDF to the specified folder and filename\n",
    "    pdf.output(f\"{folder_path}/{pdf_name}\", \"F\")"
   ]
  },
  {
   "cell_type": "code",
   "execution_count": null,
   "metadata": {},
   "outputs": [],
   "source": [
    "def translate_text(text,target_language='en'):\n",
    "    translator=Translator()\n",
    "    translation=translator.translate(text,dest=target_language)\n",
    "    return translation.text\n",
    "\n",
    "def convert_to_multilingual(text):\n",
    "    mr_transcript=translate_text(text,target_language='mr')\n",
    "    hi_transcript=translate_text(text,target_language='hi')\n",
    "    gu_transcript=translate_text(text,target_language='gu')\n",
    "    return mr_transcript,hi_transcript,gu_transcript\n",
    " \n",
    " "
   ]
  },
  {
   "cell_type": "code",
   "execution_count": null,
   "metadata": {},
   "outputs": [],
   "source": [
    "from fpdf import FPDF\n",
    "import os \n",
    "\n",
    "def convert_txt_to_pdf(txt_file, output_dir):\n",
    "  \"\"\"\n",
    "  Converts a text file to a PDF and stores it in the specified directory.\n",
    "\n",
    "  Args:\n",
    "    txt_file: Path to the text file.\n",
    "    output_dir: Path to the directory to store the converted PDF.\n",
    "\n",
    "  Returns:\n",
    "    Path to the created PDF file.\n",
    "  \"\"\"\n",
    "  # Read the text content from the file\n",
    "  text = \"\"\n",
    "  with open(txt_file, \"r\") as f:\n",
    "    text = f.read()\n",
    "\n",
    "  # Create a new PDF document\n",
    "  pdf = FPDF()\n",
    "  pdf.add_page()\n",
    "\n",
    "  # Add the text content to the PDF page\n",
    "  pdf.set_font(\"Arial\", size=12)\n",
    "  pdf.multi_cell(200, 5, text, align=\"L\")\n",
    "\n",
    "  # Save the PDF document\n",
    "  output_filename = os.path.join(output_dir, os.path.basename(txt_file) + \".pdf\")\n",
    "  pdf.output(output_filename)\n",
    "\n",
    "  return output_filename\n",
    "\n",
    "# Example usage\n",
    "txt_file = r\"C:\\Users\\Medha\\miniconda3\\m3_topic_summ\\data\\lec5\\lec5_transcript.txt\"\n",
    "output_dir = r\"C:\\Users\\Medha\\miniconda3\\m3_topic_summ\\data\\lec5\"\n",
    "converted_pdf = convert_txt_to_pdf(txt_file, output_dir)\n",
    "print(f\"Converted text file to PDF: {converted_pdf}\")\n"
   ]
  }
 ],
 "metadata": {
  "kernelspec": {
   "display_name": "base",
   "language": "python",
   "name": "python3"
  },
  "language_info": {
   "codemirror_mode": {
    "name": "ipython",
    "version": 3
   },
   "file_extension": ".py",
   "mimetype": "text/x-python",
   "name": "python",
   "nbconvert_exporter": "python",
   "pygments_lexer": "ipython3",
   "version": "3.10.12"
  }
 },
 "nbformat": 4,
 "nbformat_minor": 2
}
