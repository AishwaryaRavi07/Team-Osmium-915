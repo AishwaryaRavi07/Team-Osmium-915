{
 "cells": [
  {
   "cell_type": "code",
   "execution_count": 1,
   "metadata": {},
   "outputs": [],
   "source": [
    "import googletrans\n",
    "import os \n",
    "import json \n",
    "from googletrans import Translator"
   ]
  },
  {
   "cell_type": "code",
   "execution_count": 2,
   "metadata": {},
   "outputs": [],
   "source": [
    "def translate_text(text,target_language='en'):\n",
    "    translator=Translator()\n",
    "    translation=translator.translate(text,dest=target_language)\n",
    "    return translation.text\n",
    "\n",
    "def convert_to_multilingual(text):\n",
    "    mr_transcript=translate_text(text,target_language='mr')\n",
    "    hi_transcript=translate_text(text,target_language='hi')\n",
    "    gu_transcript=translate_text(text,target_language='gu')\n",
    "    return mr_transcript,hi_transcript,gu_transcript\n",
    "\n",
    "def get_data_from_txt(file_path):\n",
    "    \"\"\"Reads the contents of a TXT file and returns the data as a string.\n",
    "\n",
    "    Args:\n",
    "        file_path (str): The path to the TXT file.\n",
    "\n",
    "    Returns: \n",
    "        str: The data read from the TXT file.\n",
    "    \"\"\"\n",
    "\n",
    "    with open(file_path, \"r\") as file:\n",
    "        data = file.read()\n",
    "    return str(data)\n",
    "\n"
   ]
  },
  {
   "cell_type": "code",
   "execution_count": 3,
   "metadata": {},
   "outputs": [],
   "source": [
    "file_path=r'C:\\Users\\Medha\\miniconda3\\m3_paper\\data\\lec2\\lec2_summary.txt'\n",
    "all=convert_to_multilingual(get_data_from_txt(file_path))"
   ]
  },
  {
   "cell_type": "code",
   "execution_count": 6,
   "metadata": {},
   "outputs": [
    {
     "name": "stdout",
     "output_type": "stream",
     "text": [
      "In Marathi:\n",
      "1. झेड चाचणी:\n",
      "झेड चाचणी ही एक सांख्यिकीय चाचणी आहे जी नमुन्यांची तुलना करण्यासाठी वापरली जाते\n",
      "नमुना आकार मोठा आहे (30 पेक्षा जास्त).च्या दोन गटांची तुलना करण्यासाठी टी-टेस्टचा पर्याय आहे\n",
      "डेटा.झेड चाचणीचे सूत्र एक्स-बार / सिग्मा एक्स बार = गणना केलेले मूल्य आहे, जेथे एक्स-बार प्रतिनिधित्व करते\n",
      "नमुना मीन आणि सिग्मा एक्स बार लोकसंख्या मानक विचलनाचे प्रतिनिधित्व करते.\n",
      "२ अटी:\n",
      "झेड चाचणी लागू करण्याच्या अटी आहेत:\n",
      "* मोठा नमुना आकार (n> 30)\n",
      "* लोकसंख्या मानक विचलनाची कोणतीही माहिती नाही\n",
      "* नमुन्यांची तुलना म्हणजे लोकसंख्येशी\n",
      "3. सूत्रे:\n",
      "झेड चाचणीचे सूत्र आहेः\n",
      "झेड = एक्स-बार / सिग्मा एक्स बार\n",
      "जेथे एक्स-बार नमुना मीनचे प्रतिनिधित्व करतो आणि सिग्मा एक्स बार लोकसंख्या मानक दर्शवते\n",
      "विचलन.\n",
      "Men. महत्त्व पातळी:\n",
      "झेड चाचणीचे महत्त्व पातळी 0.05 आहे, याचा अर्थ शून्य नाकारण्याची 5% शक्यता आहे\n",
      "हायपोथेसिस.\n",
      "5. मोड:\n",
      "टेबलमधील टॅब्युलेटेड मूल्याच्या विरूद्ध गणना केलेले मूल्य तपासण्यासाठी एमओडी (सुधारित) वापरले जाते.तर\n",
      "गणना केलेले मूल्य टॅब्युलेटेड मूल्यापेक्षा लहान आहे, नंतर शून्य गृहीतक स्वीकारले जाते आणि जर\n",
      "हे मोठे आहे, नंतर वैकल्पिक गृहीतक नाकारले जाते.\n"
     ]
    }
   ],
   "source": [
    "print(f\"In Marathi:\\n{all[0]}\")"
   ]
  },
  {
   "cell_type": "code",
   "execution_count": 7,
   "metadata": {},
   "outputs": [
    {
     "name": "stdout",
     "output_type": "stream",
     "text": [
      "In Hindi:\n",
      "1. जेड परीक्षण:\n",
      "Z परीक्षण एक सांख्यिकीय परीक्षण है जिसका उपयोग नमूना माध्य की तुलना करने के लिए किया जाता है, जब जनसंख्या का मतलब होता है\n",
      "नमूना आकार बड़ा है (30 से अधिक)।यह दो समूहों की तुलना करने के लिए टी-टेस्ट का एक विकल्प है\n",
      "डेटा।Z परीक्षण के लिए सूत्र X-BAR / SIGMA x बार = गणना मान है, जहां X-Bar का प्रतिनिधित्व करता है\n",
      "नमूना माध्य और सिग्मा एक्स बार जनसंख्या मानक विचलन का प्रतिनिधित्व करता है।\n",
      "2. शर्तें:\n",
      "जेड परीक्षण को लागू करने की शर्तें हैं:\n",
      "* बड़े नमूना आकार (n> 30)\n",
      "* जनसंख्या मानक विचलन पर कोई जानकारी नहीं\n",
      "* एक जनसंख्या के लिए नमूना की तुलना का मतलब है\n",
      "3. सूत्र:\n",
      "Z परीक्षण का सूत्र है:\n",
      "Z = x-bar / sigma x बार\n",
      "जहां एक्स-बार नमूना माध्य का प्रतिनिधित्व करता है और सिग्मा एक्स बार जनसंख्या मानक का प्रतिनिधित्व करता है\n",
      "विचलन।\n",
      "4. महत्व स्तर:\n",
      "Z परीक्षण के लिए महत्व का स्तर 0.05 है, जिसका अर्थ है कि अशक्त को अस्वीकार करने की 5% संभावना है\n",
      "परिकल्पना।\n",
      "5. मॉड:\n",
      "MOD (संशोधन) का उपयोग तालिका में सारणीबद्ध मान के खिलाफ गणना किए गए मान की जांच करने के लिए किया जाता है।अगर\n",
      "परिकलित मान सारणीबद्ध मूल्य से छोटा है, फिर अशक्त परिकल्पना स्वीकार की जाती है, और यदि\n",
      "यह बड़ा है, फिर वैकल्पिक परिकल्पना को अस्वीकार कर दिया जाता है।\n"
     ]
    }
   ],
   "source": [
    "print(f\"In Hindi:\\n{all[1]}\")"
   ]
  },
  {
   "cell_type": "code",
   "execution_count": 8,
   "metadata": {},
   "outputs": [
    {
     "name": "stdout",
     "output_type": "stream",
     "text": [
      "In Gujurati:\n",
      "1. ઝેડ પરીક્ષણ:\n",
      "ઝેડ પરીક્ષણ એ આંકડાકીય પરીક્ષણ છે જેનો ઉપયોગ નમૂનાના અર્થની તુલના કરવા માટે થાય છે જ્યારે ત્યારે અર્થ થાય છે\n",
      "નમૂનાનું કદ મોટું છે (30 કરતા વધારે).તે બે જૂથોની તુલના કરવા માટે ટી-ટેસ્ટનો વિકલ્પ છે\n",
      "ડેટા.ઝેડ પરીક્ષણ માટેનું સૂત્ર એક્સ-બાર / સિગ્મા એક્સ બાર = ગણતરી કરેલ મૂલ્ય છે, જ્યાં એક્સ-બાર રજૂ કરે છે\n",
      "નમૂનાનો અર્થ અને સિગ્મા એક્સ બાર વસ્તી માનક વિચલનને રજૂ કરે છે.\n",
      "2. શરતો:\n",
      "ઝેડ પરીક્ષણ લાગુ કરવાની શરતો આ છે:\n",
      "* મોટા નમૂનાનું કદ (એન> 30)\n",
      "* વસ્તી માનક વિચલન વિશે કોઈ માહિતી નથી\n",
      "* નમૂનાની તુલનાનો અર્થ એ છે કે વસ્તીનો અર્થ થાય છે\n",
      "3. સૂત્રો:\n",
      "ઝેડ પરીક્ષણ માટેનું સૂત્ર છે:\n",
      "ઝેડ = એક્સ-બાર / સિગ્મા એક્સ બાર\n",
      "જ્યાં એક્સ-બાર નમૂનાનો અર્થ રજૂ કરે છે અને સિગ્મા એક્સ બાર વસ્તી ધોરણને રજૂ કરે છે\n",
      "વિચલન.\n",
      "4. મહત્વ સ્તર:\n",
      "ઝેડ પરીક્ષણ માટે મહત્વનું સ્તર 0.05 છે, જેનો અર્થ છે કે નલને નકારી કા of વાની 5% સંભાવના છે\n",
      "પૂર્વધારણા.\n",
      "5. મોડ:\n",
      "મોડ (ફેરફાર) નો ઉપયોગ કોષ્ટકમાં ટેબ્યુલેટેડ મૂલ્ય સામે ગણતરી કરેલ મૂલ્યને તપાસવા માટે થાય છે.જો\n",
      "ગણતરી કરેલ મૂલ્ય ટેબ્યુલેટેડ મૂલ્ય કરતા નાનું છે, પછી નલ પૂર્વધારણા સ્વીકારવામાં આવે છે, અને જો\n",
      "તે મોટું છે, પછી વૈકલ્પિક પૂર્વધારણાને નકારી કા .વામાં આવે છે.\n"
     ]
    }
   ],
   "source": [
    "print(f\"In Gujurati:\\n{all[2]}\")"
   ]
  },
  {
   "cell_type": "code",
   "execution_count": null,
   "metadata": {},
   "outputs": [],
   "source": []
  }
 ],
 "metadata": {
  "kernelspec": {
   "display_name": "base",
   "language": "python",
   "name": "python3"
  },
  "language_info": {
   "codemirror_mode": {
    "name": "ipython",
    "version": 3
   },
   "file_extension": ".py",
   "mimetype": "text/x-python",
   "name": "python",
   "nbconvert_exporter": "python",
   "pygments_lexer": "ipython3",
   "version": "3.10.12"
  }
 },
 "nbformat": 4,
 "nbformat_minor": 2
}
